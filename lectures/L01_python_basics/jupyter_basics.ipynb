{
 "cells": [
  {
   "cell_type": "markdown",
   "id": "6a876910-7ce4-4702-92d2-72b30cff0f24",
   "metadata": {},
   "source": [
    "# This is a title\n",
    "\n",
    "## This is a subtitle\n",
    "\n",
    "### This is a subsubtitle\n",
    "\n",
    "**I want this text to be bold**\n",
    "\n",
    "_I want this text to be italic_\n",
    "\n",
    "These are the [Python installation instructions](https://datascience.quantecon.org/introduction/local_install.html)\n",
    "\n",
    "$$x^2$$\n",
    "\n",
    "\\begin{align}\n",
    "  V(x_t) &= u(c_t) + \\beta V(x_{t+1})\n",
    "\\end{align}"
   ]
  },
  {
   "cell_type": "code",
   "execution_count": 1,
   "id": "d87b4282-fc4f-4e8e-a489-bb18b5f84fb6",
   "metadata": {},
   "outputs": [
    {
     "data": {
      "text/plain": [
       "2"
      ]
     },
     "execution_count": 1,
     "metadata": {},
     "output_type": "execute_result"
    }
   ],
   "source": [
    "1+1"
   ]
  },
  {
   "cell_type": "markdown",
   "id": "3d6b5b73-5fc0-49cc-a791-780ba18caf8f",
   "metadata": {},
   "source": [
    "You can change the \"type of cell\" you're working with from markdown <-> code\n",
    "\n",
    "* `m` makes it markdown\n",
    "* `y` makes it code"
   ]
  },
  {
   "cell_type": "code",
   "execution_count": null,
   "id": "72bd006b-1655-4de5-be70-ad34cab4d647",
   "metadata": {},
   "outputs": [],
   "source": []
  }
 ],
 "metadata": {
  "kernelspec": {
   "display_name": "Python 3 (ipykernel)",
   "language": "python",
   "name": "python3"
  },
  "language_info": {
   "codemirror_mode": {
    "name": "ipython",
    "version": 3
   },
   "file_extension": ".py",
   "mimetype": "text/x-python",
   "name": "python",
   "nbconvert_exporter": "python",
   "pygments_lexer": "ipython3",
   "version": "3.10.9"
  }
 },
 "nbformat": 4,
 "nbformat_minor": 5
}
